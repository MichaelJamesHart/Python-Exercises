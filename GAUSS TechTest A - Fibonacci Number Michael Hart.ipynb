{
 "cells": [
  {
   "cell_type": "code",
   "execution_count": 21,
   "id": "49c680e6",
   "metadata": {},
   "outputs": [
    {
     "name": "stdout",
     "output_type": "stream",
     "text": [
      "8\n",
      "34\n"
     ]
    }
   ],
   "source": [
    "def PrintNthFibonacci(n = int(input())):\n",
    "    fibSequence = [0, 1]\n",
    "    for index in range(2, n+2):\n",
    "        fibSequence.append(fibSequence[-1] + fibSequence[-2])\n",
    "    return fibSequence[n+1]\n",
    "print(PrintNthFibonacci())"
   ]
  }
 ],
 "metadata": {
  "kernelspec": {
   "display_name": "Python 3",
   "language": "python",
   "name": "python3"
  },
  "language_info": {
   "codemirror_mode": {
    "name": "ipython",
    "version": 3
   },
   "file_extension": ".py",
   "mimetype": "text/x-python",
   "name": "python",
   "nbconvert_exporter": "python",
   "pygments_lexer": "ipython3",
   "version": "3.8.8"
  }
 },
 "nbformat": 4,
 "nbformat_minor": 5
}
