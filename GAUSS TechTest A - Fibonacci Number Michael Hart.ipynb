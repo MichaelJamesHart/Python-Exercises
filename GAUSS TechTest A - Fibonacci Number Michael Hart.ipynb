{
 "cells": [
  {
   "cell_type": "code",
   "execution_count": 5,
   "id": "2919c1a9",
   "metadata": {},
   "outputs": [],
   "source": [
    "# Write a program which prints n-th fibonacci number for a given integer n. The n-th fibonacci number is defined by the following recursive formula:\n",
    "# Fn = Fn-1 + Fn-2\n",
    "# 0, 1, 1, 2, 3, 5, 8....\n",
    "# \n",
    "# Input\n",
    "# An integer n is given.\n",
    "# \n",
    "# output\n",
    "# Print the n-th fibonacci number in a line.\n",
    "# \n",
    "# Constraints\n",
    "# 0 <= n <= 44\n",
    "# \n",
    "# Sample Input 1\n",
    "# 3\n",
    "# Sample Output 1\n",
    "# 3"
   ]
  },
  {
   "cell_type": "code",
   "execution_count": 91,
   "id": "49c680e6",
   "metadata": {},
   "outputs": [
    {
     "name": "stdout",
     "output_type": "stream",
     "text": [
      "Input which place in the Fibonacci Sequence you want to calculate: 0\n",
      "1\n"
     ]
    }
   ],
   "source": [
    "# Create the function that takes a given integer n and returns the n-th number in the Fibonacci Sequence.\n",
    "def PrintNthFibonacci(n):\n",
    "    # Check if the input is between 0 and 44 (inclusive).\n",
    "    if (n < 0) or (44 < n):\n",
    "        print(\"Input out of range. Please enter a number between 0 and 44 (inclusive).\")\n",
    "    \n",
    "    # The zero-th Fibonacci number in the sequence is 1, so return 1.\n",
    "    elif n == 0:\n",
    "        return 1\n",
    "    # The first Fibonacci number in the sequence is 1, so return 1.\n",
    "    elif n == 1:\n",
    "        return 1\n",
    "    # The second Fibonacci number in the sequence is 2, so return 2.\n",
    "    elif n == 2:\n",
    "        return 2\n",
    "    # The third Fibonacci number in the sequence is 3, so return 3.\n",
    "    elif n == 3:\n",
    "        return 3\n",
    "    # If the number is greater than 3, then utilize recursion to get the values for the two previous numbers and add them together.\n",
    "    else:\n",
    "        return (PrintNthFibonacci(n-1) + PrintNthFibonacci(n-2))\n",
    "    \n",
    "testInput = int(input(\"Input which place in the Fibonacci Sequence you want to calculate: \"))\n",
    "print(PrintNthFibonacci(testInput))"
   ]
  }
 ],
 "metadata": {
  "kernelspec": {
   "display_name": "Python 3",
   "language": "python",
   "name": "python3"
  }
 },
 "nbformat": 4,
 "nbformat_minor": 5
}
