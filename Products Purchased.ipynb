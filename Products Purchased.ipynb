{
 "cells": [
  {
   "cell_type": "code",
   "execution_count": 20,
   "id": "c4c56698",
   "metadata": {},
   "outputs": [
    {
     "name": "stdout",
     "output_type": "stream",
     "text": [
      "redShirt\n",
      "yellowShirt\n",
      "redShirt\n",
      "a\n"
     ]
    }
   ],
   "source": [
    "def featuredProduct(products):\n",
    "    sorted_words=(sorted(products,reverse=True))\n",
    "    #print(sorted_words)\n",
    "    max_count = max(sorted_words,key=sorted_words.count)    \n",
    "    return max_count\n",
    "\n",
    "print(featuredProduct(['redShirt','greenPants','redShirt','orangeShoes','blackPants','blackPants']))\n",
    "# Expected outcome = 'redShirt'\n",
    "\n",
    "print(featuredProduct(['yellowShirt','redHat','blackShirt','bluePants','redHat','pinkHat','blackShirt','yellowShirt','greenPants','greenPants']))\n",
    "# Expected outcome = 'yelowShirt'\n",
    "\n",
    "print(featuredProduct(['greenShirt','bluePants','redShirt','blackShoes','redPants','redPants','whiteShirt','redShirt']))\n",
    "# Expected outcome = 'redShirt'\n",
    "\n",
    "print(featuredProduct(['a']))\n",
    "# Expected outcome = 'a'"
   ]
  }
 ],
 "metadata": {
  "kernelspec": {
   "display_name": "Python 3",
   "language": "python",
   "name": "python3"
  },
  "language_info": {
   "codemirror_mode": {
    "name": "ipython",
    "version": 3
   },
   "file_extension": ".py",
   "mimetype": "text/x-python",
   "name": "python",
   "nbconvert_exporter": "python",
   "pygments_lexer": "ipython3",
   "version": "3.8.8"
  }
 },
 "nbformat": 4,
 "nbformat_minor": 5
}
