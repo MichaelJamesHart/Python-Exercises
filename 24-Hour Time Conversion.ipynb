{
 "cells": [
  {
   "cell_type": "code",
   "execution_count": 8,
   "id": "0331597c",
   "metadata": {},
   "outputs": [
    {
     "name": "stdout",
     "output_type": "stream",
     "text": [
      "07:05:45PM\n"
     ]
    }
   ],
   "source": [
    "#!/bin/python3\n",
    "\n",
    "import math\n",
    "import os\n",
    "import random\n",
    "import re\n",
    "import sys\n",
    "\n",
    "#\n",
    "# Complete the 'timeConversion' function below.\n",
    "#\n",
    "# The function is expected to return a STRING.\n",
    "# The function accepts STRING s as parameter.\n",
    "#\n",
    "\n",
    "def timeConversion(s):\n",
    "    # Write your code here\n",
    "    firstTwoDigits = int(s[:2]).copy()\n",
    "    print(firstTwoDigits)\n",
    "    \n",
    "    # Remove the AM or PM and create the new string twentyFourHourTime.\n",
    "    twentyFourHourTime = s[:8].copy()\n",
    "    \n",
    "    # Check if the first two digits are greater than or equal to 12.\n",
    "    if firstTwoDigits < 12:\n",
    "        # Subtract 12 hours.\n",
    "        firstTwoDigits += 12\n",
    "        twentyFourHourTime = twentyFourHourTime[:2] + str(firstTwoDigits) + twentyFourHourTime[3:]\n",
    "        \n",
    "    print(twentyFourHourTime)\n",
    "        \n",
    "s = input()\n",
    "\n",
    "# Sample Input 1: 07:05:45PM\n",
    "# Sample Output 1: 19:05:45"
   ]
  }
 ],
 "metadata": {
  "kernelspec": {
   "display_name": "Python 3",
   "language": "python",
   "name": "python3"
  },
  "language_info": {
   "codemirror_mode": {
    "name": "ipython",
    "version": 3
   },
   "file_extension": ".py",
   "mimetype": "text/x-python",
   "name": "python",
   "nbconvert_exporter": "python",
   "pygments_lexer": "ipython3",
   "version": "3.8.8"
  }
 },
 "nbformat": 4,
 "nbformat_minor": 5
}
