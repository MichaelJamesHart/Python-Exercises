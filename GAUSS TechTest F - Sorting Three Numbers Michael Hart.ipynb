{
 "cells": [
  {
   "cell_type": "code",
   "execution_count": 3,
   "id": "c3762da7",
   "metadata": {},
   "outputs": [
    {
     "name": "stdout",
     "output_type": "stream",
     "text": [
      "1 9 4\n",
      "1 4 9\n"
     ]
    }
   ],
   "source": [
    "def sortThreeIntegers(inputString = input()):\n",
    "    # Split the integers into a list to hold the sorted integers.\n",
    "    sortedAscending = inputString.split()\n",
    "    \n",
    "    # Check that the contraints are met.\n",
    "    for integer in sortedAscending:\n",
    "        if (int(integer) < 1) or (int(integer) > 10000):\n",
    "            print(\"Invalid integer input. Please use integers between 1 and 10,000 (inclusive)\")\n",
    "            return\n",
    "    \n",
    "    # Use the .sort() function.\n",
    "    sortedAscending = sorted(sortedAscending)\n",
    "    \n",
    "    # Print the three integers sorted in ascending order.\n",
    "    ListForRecursion = \" \".join(sortedAscending)\n",
    "    print(ListForRecursion)\n",
    "    \n",
    "sortThreeIntegers()\n",
    "    \n",
    "# Test input.\n",
    "#inputStringFromUser = input(\"Please write three integers separated by a space, and then press Enter:\")\n",
    "#sortThreeIntegers(inputStringFromUser)"
   ]
  }
 ],
 "metadata": {
  "kernelspec": {
   "display_name": "Python 3",
   "language": "python",
   "name": "python3"
  },
  "language_info": {
   "codemirror_mode": {
    "name": "ipython",
    "version": 3
   },
   "file_extension": ".py",
   "mimetype": "text/x-python",
   "name": "python",
   "nbconvert_exporter": "python",
   "pygments_lexer": "ipython3",
   "version": "3.8.8"
  }
 },
 "nbformat": 4,
 "nbformat_minor": 5
}
