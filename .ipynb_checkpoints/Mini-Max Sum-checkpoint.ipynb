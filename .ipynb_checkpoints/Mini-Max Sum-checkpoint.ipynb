{
 "cells": [
  {
   "cell_type": "code",
   "execution_count": 1,
   "id": "4b07b8f4",
   "metadata": {},
   "outputs": [
    {
     "name": "stdout",
     "output_type": "stream",
     "text": [
      "1 2 3 4 5\n",
      "10 14\n"
     ]
    }
   ],
   "source": [
    "# Mini-Max Sum\n",
    "\n",
    "#!/bin/python3\n",
    "\n",
    "import math\n",
    "import os\n",
    "import random\n",
    "import re\n",
    "import sys\n",
    "\n",
    "#\n",
    "# Complete the 'miniMaxSum' function below.\n",
    "#\n",
    "# The function accepts INTEGER_ARRAY arr as parameter.\n",
    "#\n",
    "\n",
    "def miniMaxSum(arr):\n",
    "    # Write your code here\n",
    "    # Keep track of the min and max.\n",
    "    minSum = sum(arr)\n",
    "    maxSum = 0\n",
    "    \n",
    "    for index, integer in enumerate(arr):\n",
    "        # Replace the currentList every time with arr.\n",
    "        currentList = arr.copy()\n",
    "        # Remove the current index from the disposable list.\n",
    "        del currentList[index]\n",
    "        currentSum = sum(currentList)\n",
    "        \n",
    "        # Replace the current min and max as necessary.\n",
    "        if currentSum > maxSum:\n",
    "            maxSum = currentSum\n",
    "        if currentSum < minSum:\n",
    "            minSum = currentSum\n",
    "    \n",
    "    # Print out the min and max.\n",
    "    print(str(minSum) + \" \" + str(maxSum))\n",
    "\n",
    "if __name__ == '__main__':\n",
    "\n",
    "    arr = list(map(int, input().rstrip().split()))\n",
    "\n",
    "    miniMaxSum(arr)\n",
    "    \n",
    "# Test Input 1: 1 2 3 4 5\n",
    "# Test Output 1: 10 14"
   ]
  }
 ],
 "metadata": {
  "kernelspec": {
   "display_name": "Python 3",
   "language": "python",
   "name": "python3"
  },
  "language_info": {
   "codemirror_mode": {
    "name": "ipython",
    "version": 3
   },
   "file_extension": ".py",
   "mimetype": "text/x-python",
   "name": "python",
   "nbconvert_exporter": "python",
   "pygments_lexer": "ipython3",
   "version": "3.8.8"
  }
 },
 "nbformat": 4,
 "nbformat_minor": 5
}
