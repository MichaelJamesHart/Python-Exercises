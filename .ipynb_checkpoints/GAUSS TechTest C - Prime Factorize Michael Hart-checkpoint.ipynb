{
 "cells": [
  {
   "cell_type": "code",
   "execution_count": 14,
   "id": "dc2afc16",
   "metadata": {},
   "outputs": [
    {
     "name": "stdout",
     "output_type": "stream",
     "text": [
      "Please input an integer to be factorized: 27\n",
      "27: 3 3 3\n"
     ]
    }
   ],
   "source": [
    "def PrimeFactorize(n):\n",
    "    # Create the string to hold the output, starting with \n",
    "    # n and a colon after it.\n",
    "    OutPutString = (str(n) + \":\")\n",
    "    \n",
    "    # Declare the current factorization as the original number n.\n",
    "    CurrentFactorization = n\n",
    "    \n",
    "    # Loop through every possible factor of n.\n",
    "    for integer in range(2, n + 1):\n",
    "        while CurrentFactorization % integer == 0:\n",
    "            CurrentFactorization = (CurrentFactorization / integer)\n",
    "            OutPutString = OutPutString + \" \" + str(integer)\n",
    "    \n",
    "    # Print the output string.\n",
    "    print(OutPutString)\n",
    "    \n",
    "# Test Input\n",
    "inputInteger = int(input(\"Please input an integer to be factorized: \"))\n",
    "PrimeFactorize(inputInteger)"
   ]
  }
 ],
 "metadata": {
  "kernelspec": {
   "display_name": "Python 3",
   "language": "python",
   "name": "python3"
  },
  "language_info": {
   "codemirror_mode": {
    "name": "ipython",
    "version": 3
   },
   "file_extension": ".py",
   "mimetype": "text/x-python",
   "name": "python",
   "nbconvert_exporter": "python",
   "pygments_lexer": "ipython3",
   "version": "3.8.8"
  }
 },
 "nbformat": 4,
 "nbformat_minor": 5
}
