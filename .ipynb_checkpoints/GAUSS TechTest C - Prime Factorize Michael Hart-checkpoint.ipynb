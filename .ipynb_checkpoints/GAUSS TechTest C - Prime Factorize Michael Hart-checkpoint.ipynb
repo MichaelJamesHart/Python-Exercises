{
 "cells": [
  {
   "cell_type": "code",
   "execution_count": 17,
   "id": "12f4171d",
   "metadata": {},
   "outputs": [
    {
     "name": "stdout",
     "output_type": "stream",
     "text": [
      "12\n",
      "12: 2 2 3\n"
     ]
    }
   ],
   "source": [
    "# Program to print the prime factors.\n",
    "import math\n",
    " \n",
    "# The function will print all prime factors of the integer n.\n",
    "def PrimeFactorize(n = int(input())):\n",
    "    # Create the string to hold the output, starting with \n",
    "    # n and a colon after it.\n",
    "    outPutString = (str(n) + \":\")\n",
    "     \n",
    "    # Print the number of two's that divide n\n",
    "    while n % 2 == 0:\n",
    "        outPutString = outPutString + \" \" + str(int(2))\n",
    "        n = n / 2\n",
    "         \n",
    "    # We know n is odd, so we are now skipping by 2.\n",
    "    for integer in range(3,int(math.sqrt(n))+1,2):\n",
    "         \n",
    "        # While n is divided by integer, add the integer to the output string\n",
    "        # and divide n by the integer.\n",
    "        while n % integer == 0:\n",
    "            outPutString = outPutString + \" \" + str(int(integer))\n",
    "            n = n / integer\n",
    "             \n",
    "    # If n is a prime number >2, then add it to the output string.\n",
    "    if n > 2:\n",
    "        outPutString = outPutString + \" \" + str(int(n))\n",
    "        \n",
    "    # Print the completed output string.\n",
    "    print(outPutString)\n",
    "         \n",
    "# Driver Program to test above function\n",
    "PrimeFactorize()\n",
    "    \n",
    "# Test Input\n",
    "#inputInteger = int(input(\"Please input an integer to be factorized: \"))\n",
    "#PrimeFactorize(inputInteger)"
   ]
  },
  {
   "cell_type": "code",
   "execution_count": 9,
   "id": "2b6f1ca3",
   "metadata": {},
   "outputs": [],
   "source": [
    "%reset -f"
   ]
  }
 ],
 "metadata": {
  "kernelspec": {
   "display_name": "Python 3",
   "language": "python",
   "name": "python3"
  },
  "language_info": {
   "codemirror_mode": {
    "name": "ipython",
    "version": 3
   },
   "file_extension": ".py",
   "mimetype": "text/x-python",
   "name": "python",
   "nbconvert_exporter": "python",
   "pygments_lexer": "ipython3",
   "version": "3.8.8"
  }
 },
 "nbformat": 4,
 "nbformat_minor": 5
}
