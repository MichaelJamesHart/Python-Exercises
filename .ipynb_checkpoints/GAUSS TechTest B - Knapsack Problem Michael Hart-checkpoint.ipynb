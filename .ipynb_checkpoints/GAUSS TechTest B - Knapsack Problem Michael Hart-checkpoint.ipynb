{
 "cells": [
  {
   "cell_type": "code",
   "execution_count": 5,
   "id": "ee191113",
   "metadata": {},
   "outputs": [
    {
     "name": "stdout",
     "output_type": "stream",
     "text": [
      "2 20\n",
      "5 9\n",
      "4 10\n",
      "10\n"
     ]
    }
   ],
   "source": [
    "# The total value of the items is as large as possible.\n",
    "# The items have combined weight at most maxWeight, that is capacity of the knapsack.\n",
    "# You can select as many items as possible into a knapsack for each kind.\n",
    "def knapsackProblem(maxWeight, numberOfItemTypes, valueOfItemList, itemWeightList):\n",
    "\n",
    "    # Store the maximums with the list dynamicProgramming.\n",
    "    dynamicProgramming = [0 for i in range(maxWeight + 1)]\n",
    "\n",
    "    # Fill the list dynamicProgramming using a recursive formula.\n",
    "    for i in range(maxWeight + 1):\n",
    "        for j in range(numberOfItemTypes):\n",
    "            if (int(itemWeightList[j]) <= i):\n",
    "                dynamicProgramming[i] = max(dynamicProgramming[i], dynamicProgramming[i - int(itemWeightList[j])] + int(valueOfItemList[j]))\n",
    " \n",
    "    return dynamicProgramming[maxWeight]\n",
    " \n",
    "# Test Input\n",
    "maxItemsAndWeight = (input()).split()\n",
    "\n",
    "# Set the total number of items and the max weight based on the maxItemsAndWeight input.\n",
    "numberOfItemTypes = int(maxItemsAndWeight[0])\n",
    "itemsLeft = int(maxItemsAndWeight[0])\n",
    "maxWeight = int(maxItemsAndWeight[1])\n",
    "\n",
    "# Create an empty list to hold the values and weights of the items.\n",
    "valueOfItemList = []\n",
    "itemWeightList = []\n",
    "\n",
    "# Ask the user for item value and weight for each item.\n",
    "while itemsLeft > 0:\n",
    "    valueAndWeight = list(map(int, input().rstrip().split()))\n",
    "\n",
    "    # Append the current value and weight to the respective list.\n",
    "    valueOfItemList.append(valueAndWeight[0])\n",
    "    itemWeightList.append(valueAndWeight[1])\n",
    "    \n",
    "    # Count down the items left.\n",
    "    itemsLeft -= 1\n",
    "\n",
    "# Call and print the knapsackProblem function.\n",
    "print(knapsackProblem(maxWeight, numberOfItemTypes, valueOfItemList, itemWeightList))"
   ]
  },
  {
   "cell_type": "code",
   "execution_count": 3,
   "id": "db1abace",
   "metadata": {},
   "outputs": [],
   "source": [
    "%reset -f"
   ]
  }
 ],
 "metadata": {
  "kernelspec": {
   "display_name": "Python 3",
   "language": "python",
   "name": "python3"
  },
  "language_info": {
   "codemirror_mode": {
    "name": "ipython",
    "version": 3
   },
   "file_extension": ".py",
   "mimetype": "text/x-python",
   "name": "python",
   "nbconvert_exporter": "python",
   "pygments_lexer": "ipython3",
   "version": "3.8.8"
  }
 },
 "nbformat": 4,
 "nbformat_minor": 5
}
