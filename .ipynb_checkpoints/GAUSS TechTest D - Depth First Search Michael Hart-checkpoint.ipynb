{
 "cells": [
  {
   "cell_type": "code",
   "execution_count": 7,
   "id": "3ec96a2e",
   "metadata": {},
   "outputs": [
    {
     "name": "stdout",
     "output_type": "stream",
     "text": [
      "4\n",
      "1 1 2\n",
      "2 1 4\n",
      "3 0\n",
      "4 1 3\n",
      "1 1 8\n",
      "2 2 7\n",
      "3 4 5\n",
      "4 3 6\n"
     ]
    }
   ],
   "source": [
    "# Declare the depth first search function.\n",
    "def depthFirstSearch():\n",
    "    \n",
    "    # Test Input\n",
    "    numberOfVertices = int(input())\n",
    "\n",
    "    # Create a dictionary to hold each string of adjacency lists.\n",
    "    adjacencyDictionary = {}\n",
    "\n",
    "    # Create a current vertice variable to keep track of how many have been added\n",
    "    # as keys to the adjacencyDictionary.\n",
    "    currentVertice = 1\n",
    "\n",
    "    # Ask the user to input the adjacency lists.\n",
    "    while currentVertice <= numberOfVertices:\n",
    "        currentAdjacency = list(map(int, input().rstrip().split()))\n",
    "\n",
    "        # Set the current vertice as the key and the adjacency as the value.\n",
    "        adjacencyDictionary[currentAdjacency[0]] = currentAdjacency[2:]\n",
    "\n",
    "        # Iterate the currentVetice so the while loop will end after each vertice is processed.\n",
    "        currentVertice += 1\n",
    "    \n",
    "    startingVertex = 1\n",
    "    \n",
    "    # Create variables to keep track of visited vertices and traversal times.\n",
    "    visited = set()\n",
    "    counter = [0]\n",
    "    traversalTimes = {}\n",
    "    \n",
    "    # Create the traverse function to recursively traverse the vertices.\n",
    "    def traverse(vertex):\n",
    "        \n",
    "        # Add the vertex to the visited set.\n",
    "        visited.add(vertex)\n",
    "        \n",
    "        # Iterate the counter.\n",
    "        counter[0] += 1\n",
    "        \n",
    "        # Set the value of the discovery time for the vertex.\n",
    "        traversalTimes[vertex] = str(counter[0])\n",
    "        \n",
    "        # If the next vertex has not been visited, recursively call the traverse function again.\n",
    "        for nextVertex in adjacencyDictionary[vertex]:\n",
    "            if nextVertex not in visited:\n",
    "                traverse(nextVertex)\n",
    "        \n",
    "        # Iterate the counter.\n",
    "        counter[0] += 1\n",
    "        \n",
    "        # Set the value of the finish time for the vertex.\n",
    "        traversalTimes[vertex] += \" \" + str(counter[0])\n",
    "\n",
    "    # in this case start with just one vertex, but we could equally\n",
    "    # dfs from all_vertices to produce a dfs forest\n",
    "    traverse(startingVertex)\n",
    "    return traversalTimes\n",
    "\n",
    "\n",
    "# Build the traversal times dictionary using the depthFirstSearch function.\n",
    "traversalTimes = depthFirstSearch()\n",
    "\n",
    "# Sort the traversal times dictionary, for proper printing order.\n",
    "from collections import OrderedDict\n",
    "traversalTimesSorted = OrderedDict(sorted(traversalTimes.items()))\n",
    "\n",
    "# Print out the discovery and finish times for each vertex.\n",
    "for key in traversalTimesSorted:\n",
    "   print(str(key) + \" \" + traversalTimesSorted[key].rstrip())"
   ]
  },
  {
   "cell_type": "code",
   "execution_count": 6,
   "id": "c1d09cf6",
   "metadata": {},
   "outputs": [],
   "source": [
    "%reset -f"
   ]
  }
 ],
 "metadata": {
  "kernelspec": {
   "display_name": "Python 3",
   "language": "python",
   "name": "python3"
  },
  "language_info": {
   "codemirror_mode": {
    "name": "ipython",
    "version": 3
   },
   "file_extension": ".py",
   "mimetype": "text/x-python",
   "name": "python",
   "nbconvert_exporter": "python",
   "pygments_lexer": "ipython3",
   "version": "3.8.8"
  }
 },
 "nbformat": 4,
 "nbformat_minor": 5
}
