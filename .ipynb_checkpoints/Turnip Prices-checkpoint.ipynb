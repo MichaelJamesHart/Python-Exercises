{
 "cells": [
  {
   "cell_type": "code",
   "execution_count": 26,
   "id": "58a2a9d5",
   "metadata": {},
   "outputs": [
    {
     "name": "stdout",
     "output_type": "stream",
     "text": [
      "[1, 1, 4, 2, 1, 1, 0, 1, 0, 0]\n"
     ]
    }
   ],
   "source": [
    "def fn(prices):\n",
    "    # Write your code here\n",
    "    daysToBetterPriceList = []\n",
    "    currentIndex = 0\n",
    "    \n",
    "    # Goes from 0 to length of the prices list.\n",
    "    for index in range(currentIndex, len(prices)):\n",
    "        foundBetterPrice = 0\n",
    "        # Compares each day's price to the following.\n",
    "        daysToBetterPrice = 0\n",
    "        for index2 in range(index + 1, len(prices)):\n",
    "            daysToBetterPrice += 1\n",
    "            if prices[index] < prices[index2]:\n",
    "                foundBetterPrice = 1\n",
    "                daysToBetterPriceList.append(daysToBetterPrice)\n",
    "                break\n",
    "                \n",
    "        if foundBetterPrice == 0:\n",
    "            daysToBetterPriceList.append(0)\n",
    "    return daysToBetterPriceList\n",
    "        \n",
    "prices = [12,15,16,12,10,13,21,14,20,19]\n",
    "print(fn(prices))"
   ]
  }
 ],
 "metadata": {
  "kernelspec": {
   "display_name": "Python 3",
   "language": "python",
   "name": "python3"
  },
  "language_info": {
   "codemirror_mode": {
    "name": "ipython",
    "version": 3
   },
   "file_extension": ".py",
   "mimetype": "text/x-python",
   "name": "python",
   "nbconvert_exporter": "python",
   "pygments_lexer": "ipython3",
   "version": "3.8.8"
  }
 },
 "nbformat": 4,
 "nbformat_minor": 5
}
