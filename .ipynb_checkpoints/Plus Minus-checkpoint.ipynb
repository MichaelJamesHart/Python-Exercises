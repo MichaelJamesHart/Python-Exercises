{
 "cells": [
  {
   "cell_type": "code",
   "execution_count": 2,
   "id": "6c733c49",
   "metadata": {},
   "outputs": [
    {
     "name": "stdout",
     "output_type": "stream",
     "text": [
      "8\n",
      "1 2 3 -1 -2 -3 0 0\n",
      "0.375\n",
      "0.375\n",
      "0.25\n"
     ]
    }
   ],
   "source": [
    "#!/bin/python3\n",
    "\n",
    "import math\n",
    "import os\n",
    "import random\n",
    "import re\n",
    "import sys\n",
    "\n",
    "#\n",
    "# Complete the 'plusMinus' function below.\n",
    "#\n",
    "# The function accepts INTEGER_ARRAY arr as parameter.\n",
    "#\n",
    "\n",
    "def plusMinus(arr):\n",
    "    # Write your code here\n",
    "    totalNumber = len(arr)\n",
    "    numberOfPositives = len([integer for integer in arr if integer > 0])\n",
    "    numberOfNegatives = len([integer for integer in arr if integer < 0])\n",
    "    numberOfZeros = len([integer for integer in arr if integer == 0])\n",
    "    \n",
    "    print(numberOfPositives / totalNumber)\n",
    "    print(numberOfNegatives / totalNumber)\n",
    "    print(numberOfZeros / totalNumber)\n",
    "    \n",
    "    \n",
    "if __name__ == '__main__':\n",
    "    n = int(input().strip())\n",
    "\n",
    "    arr = list(map(int, input().rstrip().split()))\n",
    "\n",
    "    plusMinus(arr)\n",
    "\n",
    "# Test Case 1 Input\n",
    "# 6\n",
    "# -4 3 -9 0 4 1\n",
    "\n",
    "# Test Case 1 Output\n",
    "# 0.500000\n",
    "# 0.333333\n",
    "# 0.166667\n",
    "\n",
    "# Test Case 2 Input\n",
    "# 8\n",
    "# 1 2 3 -1 -2 -3 0 0\n",
    "\n",
    "# Test Case 2 Output\n",
    "# 0.375000\n",
    "# 0.375000\n",
    "# 0.250000"
   ]
  }
 ],
 "metadata": {
  "kernelspec": {
   "display_name": "Python 3",
   "language": "python",
   "name": "python3"
  },
  "language_info": {
   "codemirror_mode": {
    "name": "ipython",
    "version": 3
   },
   "file_extension": ".py",
   "mimetype": "text/x-python",
   "name": "python",
   "nbconvert_exporter": "python",
   "pygments_lexer": "ipython3",
   "version": "3.8.8"
  }
 },
 "nbformat": 4,
 "nbformat_minor": 5
}
