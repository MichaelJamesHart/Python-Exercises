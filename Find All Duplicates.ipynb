{
 "cells": [
  {
   "cell_type": "code",
   "execution_count": 5,
   "id": "49da0257",
   "metadata": {},
   "outputs": [
    {
     "data": {
      "text/plain": [
       "[2, 3]"
      ]
     },
     "execution_count": 5,
     "metadata": {},
     "output_type": "execute_result"
    }
   ],
   "source": [
    "def findAllDuplicates(arr):\n",
    "    # Write your code here\n",
    "    seen = {}\n",
    "    dupes = []\n",
    "\n",
    "    for integer in arr:\n",
    "        if integer not in seen:\n",
    "            seen[integer] = 1\n",
    "        else:\n",
    "            if seen[integer] == 1:\n",
    "                dupes.append(integer)\n",
    "            seen[integer] += 1\n",
    "    \n",
    "    dupes = sorted(dupes)\n",
    "    return dupes\n",
    "\n",
    "arr = [4,3,2,7,8,2,3,1]\n",
    "findAllDuplicates(arr)"
   ]
  }
 ],
 "metadata": {
  "kernelspec": {
   "display_name": "Python 3",
   "language": "python",
   "name": "python3"
  },
  "language_info": {
   "codemirror_mode": {
    "name": "ipython",
    "version": 3
   },
   "file_extension": ".py",
   "mimetype": "text/x-python",
   "name": "python",
   "nbconvert_exporter": "python",
   "pygments_lexer": "ipython3",
   "version": "3.8.8"
  }
 },
 "nbformat": 4,
 "nbformat_minor": 5
}
